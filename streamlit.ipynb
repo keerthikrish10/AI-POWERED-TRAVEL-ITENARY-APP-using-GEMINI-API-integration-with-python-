{
  "nbformat": 4,
  "nbformat_minor": 0,
  "metadata": {
    "colab": {
      "provenance": []
    },
    "kernelspec": {
      "name": "python3",
      "display_name": "Python 3"
    },
    "language_info": {
      "name": "python"
    }
  },
  "cells": [
    {
      "cell_type": "code",
      "execution_count": null,
      "metadata": {
        "colab": {
          "base_uri": "https://localhost:8080/"
        },
        "id": "wLpNFX07nJxK",
        "outputId": "8ee8d0b4-fedb-418c-8335-719e89a7b2fa"
      },
      "outputs": [
        {
          "output_type": "stream",
          "name": "stdout",
          "text": [
            "Cloning into 'AI-POWERED-TRAVEL-ITENARY-APP-using-GEMINI-API-integration-with-python-'...\n",
            "remote: Enumerating objects: 23, done.\u001b[K\n",
            "remote: Counting objects: 100% (23/23), done.\u001b[K\n",
            "remote: Compressing objects: 100% (23/23), done.\u001b[K\n",
            "remote: Total 23 (delta 10), reused 0 (delta 0), pack-reused 0\u001b[K\n",
            "Receiving objects: 100% (23/23), 13.51 KiB | 13.51 MiB/s, done.\n",
            "Resolving deltas: 100% (10/10), done.\n"
          ]
        }
      ],
      "source": [
        "!git clone https://github.com/keerthikrish10/AI-POWERED-TRAVEL-ITENARY-APP-using-GEMINI-API-integration-with-python-.git"
      ]
    },
    {
      "cell_type": "code",
      "source": [
        "# Step 1: Install the necessary packages\n",
        "!pip install pyngrok\n",
        "\n"
      ],
      "metadata": {
        "colab": {
          "base_uri": "https://localhost:8080/"
        },
        "id": "xEj5Z8N1nWVW",
        "outputId": "65c7c52c-675f-4eab-ff8f-03f0a784c481"
      },
      "execution_count": null,
      "outputs": [
        {
          "output_type": "stream",
          "name": "stdout",
          "text": [
            "Collecting pyngrok\n",
            "  Downloading pyngrok-7.1.6-py3-none-any.whl (22 kB)\n",
            "Requirement already satisfied: PyYAML>=5.1 in /usr/local/lib/python3.10/dist-packages (from pyngrok) (6.0.1)\n",
            "Installing collected packages: pyngrok\n",
            "Successfully installed pyngrok-7.1.6\n"
          ]
        }
      ]
    },
    {
      "cell_type": "code",
      "source": [
        "!pip install -r \"/content/AI-POWERED-TRAVEL-ITENARY-APP-using-GEMINI-API-integration-with-python-/requirements.txt\""
      ],
      "metadata": {
        "colab": {
          "base_uri": "https://localhost:8080/"
        },
        "id": "7aouDOEsnWXj",
        "outputId": "d3fa60ce-dbf0-4626-9fe4-7fdc7f1c28da"
      },
      "execution_count": null,
      "outputs": [
        {
          "output_type": "stream",
          "name": "stdout",
          "text": [
            "Collecting numpy==1.26.3 (from -r /content/AI-POWERED-TRAVEL-ITENARY-APP-using-GEMINI-API-integration-with-python-/requirements.txt (line 1))\n",
            "  Downloading numpy-1.26.3-cp310-cp310-manylinux_2_17_x86_64.manylinux2014_x86_64.whl (18.2 MB)\n",
            "\u001b[2K     \u001b[90m━━━━━━━━━━━━━━━━━━━━━━━━━━━━━━━━━━━━━━━━\u001b[0m \u001b[32m18.2/18.2 MB\u001b[0m \u001b[31m13.0 MB/s\u001b[0m eta \u001b[36m0:00:00\u001b[0m\n",
            "\u001b[?25hCollecting scikit-learn==1.3.2 (from -r /content/AI-POWERED-TRAVEL-ITENARY-APP-using-GEMINI-API-integration-with-python-/requirements.txt (line 2))\n",
            "  Downloading scikit_learn-1.3.2-cp310-cp310-manylinux_2_17_x86_64.manylinux2014_x86_64.whl (10.8 MB)\n",
            "\u001b[2K     \u001b[90m━━━━━━━━━━━━━━━━━━━━━━━━━━━━━━━━━━━━━━━━\u001b[0m \u001b[32m10.8/10.8 MB\u001b[0m \u001b[31m54.0 MB/s\u001b[0m eta \u001b[36m0:00:00\u001b[0m\n",
            "\u001b[?25hCollecting streamlit==1.29.0 (from -r /content/AI-POWERED-TRAVEL-ITENARY-APP-using-GEMINI-API-integration-with-python-/requirements.txt (line 3))\n",
            "  Downloading streamlit-1.29.0-py2.py3-none-any.whl (8.4 MB)\n",
            "\u001b[2K     \u001b[90m━━━━━━━━━━━━━━━━━━━━━━━━━━━━━━━━━━━━━━━━\u001b[0m \u001b[32m8.4/8.4 MB\u001b[0m \u001b[31m68.1 MB/s\u001b[0m eta \u001b[36m0:00:00\u001b[0m\n",
            "\u001b[?25hCollecting streamlit-option-menu==0.3.6 (from -r /content/AI-POWERED-TRAVEL-ITENARY-APP-using-GEMINI-API-integration-with-python-/requirements.txt (line 4))\n",
            "  Downloading streamlit_option_menu-0.3.6-py3-none-any.whl (799 kB)\n",
            "\u001b[2K     \u001b[90m━━━━━━━━━━━━━━━━━━━━━━━━━━━━━━━━━━━━━━━━\u001b[0m \u001b[32m799.2/799.2 kB\u001b[0m \u001b[31m37.4 MB/s\u001b[0m eta \u001b[36m0:00:00\u001b[0m\n",
            "\u001b[?25hRequirement already satisfied: scipy>=1.5.0 in /usr/local/lib/python3.10/dist-packages (from scikit-learn==1.3.2->-r /content/AI-POWERED-TRAVEL-ITENARY-APP-using-GEMINI-API-integration-with-python-/requirements.txt (line 2)) (1.11.4)\n",
            "Requirement already satisfied: joblib>=1.1.1 in /usr/local/lib/python3.10/dist-packages (from scikit-learn==1.3.2->-r /content/AI-POWERED-TRAVEL-ITENARY-APP-using-GEMINI-API-integration-with-python-/requirements.txt (line 2)) (1.4.0)\n",
            "Requirement already satisfied: threadpoolctl>=2.0.0 in /usr/local/lib/python3.10/dist-packages (from scikit-learn==1.3.2->-r /content/AI-POWERED-TRAVEL-ITENARY-APP-using-GEMINI-API-integration-with-python-/requirements.txt (line 2)) (3.5.0)\n",
            "Requirement already satisfied: altair<6,>=4.0 in /usr/local/lib/python3.10/dist-packages (from streamlit==1.29.0->-r /content/AI-POWERED-TRAVEL-ITENARY-APP-using-GEMINI-API-integration-with-python-/requirements.txt (line 3)) (4.2.2)\n",
            "Requirement already satisfied: blinker<2,>=1.0.0 in /usr/lib/python3/dist-packages (from streamlit==1.29.0->-r /content/AI-POWERED-TRAVEL-ITENARY-APP-using-GEMINI-API-integration-with-python-/requirements.txt (line 3)) (1.4)\n",
            "Requirement already satisfied: cachetools<6,>=4.0 in /usr/local/lib/python3.10/dist-packages (from streamlit==1.29.0->-r /content/AI-POWERED-TRAVEL-ITENARY-APP-using-GEMINI-API-integration-with-python-/requirements.txt (line 3)) (5.3.3)\n",
            "Requirement already satisfied: click<9,>=7.0 in /usr/local/lib/python3.10/dist-packages (from streamlit==1.29.0->-r /content/AI-POWERED-TRAVEL-ITENARY-APP-using-GEMINI-API-integration-with-python-/requirements.txt (line 3)) (8.1.7)\n",
            "Collecting importlib-metadata<7,>=1.4 (from streamlit==1.29.0->-r /content/AI-POWERED-TRAVEL-ITENARY-APP-using-GEMINI-API-integration-with-python-/requirements.txt (line 3))\n",
            "  Downloading importlib_metadata-6.11.0-py3-none-any.whl (23 kB)\n",
            "Collecting packaging<24,>=16.8 (from streamlit==1.29.0->-r /content/AI-POWERED-TRAVEL-ITENARY-APP-using-GEMINI-API-integration-with-python-/requirements.txt (line 3))\n",
            "  Downloading packaging-23.2-py3-none-any.whl (53 kB)\n",
            "\u001b[2K     \u001b[90m━━━━━━━━━━━━━━━━━━━━━━━━━━━━━━━━━━━━━━━━\u001b[0m \u001b[32m53.0/53.0 kB\u001b[0m \u001b[31m6.4 MB/s\u001b[0m eta \u001b[36m0:00:00\u001b[0m\n",
            "\u001b[?25hRequirement already satisfied: pandas<3,>=1.3.0 in /usr/local/lib/python3.10/dist-packages (from streamlit==1.29.0->-r /content/AI-POWERED-TRAVEL-ITENARY-APP-using-GEMINI-API-integration-with-python-/requirements.txt (line 3)) (2.0.3)\n",
            "Requirement already satisfied: pillow<11,>=7.1.0 in /usr/local/lib/python3.10/dist-packages (from streamlit==1.29.0->-r /content/AI-POWERED-TRAVEL-ITENARY-APP-using-GEMINI-API-integration-with-python-/requirements.txt (line 3)) (9.4.0)\n",
            "Requirement already satisfied: protobuf<5,>=3.20 in /usr/local/lib/python3.10/dist-packages (from streamlit==1.29.0->-r /content/AI-POWERED-TRAVEL-ITENARY-APP-using-GEMINI-API-integration-with-python-/requirements.txt (line 3)) (3.20.3)\n",
            "Requirement already satisfied: pyarrow>=6.0 in /usr/local/lib/python3.10/dist-packages (from streamlit==1.29.0->-r /content/AI-POWERED-TRAVEL-ITENARY-APP-using-GEMINI-API-integration-with-python-/requirements.txt (line 3)) (14.0.2)\n",
            "Requirement already satisfied: python-dateutil<3,>=2.7.3 in /usr/local/lib/python3.10/dist-packages (from streamlit==1.29.0->-r /content/AI-POWERED-TRAVEL-ITENARY-APP-using-GEMINI-API-integration-with-python-/requirements.txt (line 3)) (2.8.2)\n",
            "Requirement already satisfied: requests<3,>=2.27 in /usr/local/lib/python3.10/dist-packages (from streamlit==1.29.0->-r /content/AI-POWERED-TRAVEL-ITENARY-APP-using-GEMINI-API-integration-with-python-/requirements.txt (line 3)) (2.31.0)\n",
            "Requirement already satisfied: rich<14,>=10.14.0 in /usr/local/lib/python3.10/dist-packages (from streamlit==1.29.0->-r /content/AI-POWERED-TRAVEL-ITENARY-APP-using-GEMINI-API-integration-with-python-/requirements.txt (line 3)) (13.7.1)\n",
            "Requirement already satisfied: tenacity<9,>=8.1.0 in /usr/local/lib/python3.10/dist-packages (from streamlit==1.29.0->-r /content/AI-POWERED-TRAVEL-ITENARY-APP-using-GEMINI-API-integration-with-python-/requirements.txt (line 3)) (8.2.3)\n",
            "Requirement already satisfied: toml<2,>=0.10.1 in /usr/local/lib/python3.10/dist-packages (from streamlit==1.29.0->-r /content/AI-POWERED-TRAVEL-ITENARY-APP-using-GEMINI-API-integration-with-python-/requirements.txt (line 3)) (0.10.2)\n",
            "Requirement already satisfied: typing-extensions<5,>=4.3.0 in /usr/local/lib/python3.10/dist-packages (from streamlit==1.29.0->-r /content/AI-POWERED-TRAVEL-ITENARY-APP-using-GEMINI-API-integration-with-python-/requirements.txt (line 3)) (4.11.0)\n",
            "Requirement already satisfied: tzlocal<6,>=1.1 in /usr/local/lib/python3.10/dist-packages (from streamlit==1.29.0->-r /content/AI-POWERED-TRAVEL-ITENARY-APP-using-GEMINI-API-integration-with-python-/requirements.txt (line 3)) (5.2)\n",
            "Collecting validators<1,>=0.2 (from streamlit==1.29.0->-r /content/AI-POWERED-TRAVEL-ITENARY-APP-using-GEMINI-API-integration-with-python-/requirements.txt (line 3))\n",
            "  Downloading validators-0.28.3-py3-none-any.whl (40 kB)\n",
            "\u001b[2K     \u001b[90m━━━━━━━━━━━━━━━━━━━━━━━━━━━━━━━━━━━━━━━━\u001b[0m \u001b[32m40.0/40.0 kB\u001b[0m \u001b[31m4.9 MB/s\u001b[0m eta \u001b[36m0:00:00\u001b[0m\n",
            "\u001b[?25hCollecting gitpython!=3.1.19,<4,>=3.0.7 (from streamlit==1.29.0->-r /content/AI-POWERED-TRAVEL-ITENARY-APP-using-GEMINI-API-integration-with-python-/requirements.txt (line 3))\n",
            "  Downloading GitPython-3.1.43-py3-none-any.whl (207 kB)\n",
            "\u001b[2K     \u001b[90m━━━━━━━━━━━━━━━━━━━━━━━━━━━━━━━━━━━━━━━━\u001b[0m \u001b[32m207.3/207.3 kB\u001b[0m \u001b[31m21.3 MB/s\u001b[0m eta \u001b[36m0:00:00\u001b[0m\n",
            "\u001b[?25hCollecting pydeck<1,>=0.8.0b4 (from streamlit==1.29.0->-r /content/AI-POWERED-TRAVEL-ITENARY-APP-using-GEMINI-API-integration-with-python-/requirements.txt (line 3))\n",
            "  Downloading pydeck-0.9.1-py2.py3-none-any.whl (6.9 MB)\n",
            "\u001b[2K     \u001b[90m━━━━━━━━━━━━━━━━━━━━━━━━━━━━━━━━━━━━━━━━\u001b[0m \u001b[32m6.9/6.9 MB\u001b[0m \u001b[31m29.5 MB/s\u001b[0m eta \u001b[36m0:00:00\u001b[0m\n",
            "\u001b[?25hRequirement already satisfied: tornado<7,>=6.0.3 in /usr/local/lib/python3.10/dist-packages (from streamlit==1.29.0->-r /content/AI-POWERED-TRAVEL-ITENARY-APP-using-GEMINI-API-integration-with-python-/requirements.txt (line 3)) (6.3.3)\n",
            "Collecting watchdog>=2.1.5 (from streamlit==1.29.0->-r /content/AI-POWERED-TRAVEL-ITENARY-APP-using-GEMINI-API-integration-with-python-/requirements.txt (line 3))\n",
            "  Downloading watchdog-4.0.1-py3-none-manylinux2014_x86_64.whl (83 kB)\n",
            "\u001b[2K     \u001b[90m━━━━━━━━━━━━━━━━━━━━━━━━━━━━━━━━━━━━━━━━\u001b[0m \u001b[32m83.0/83.0 kB\u001b[0m \u001b[31m7.6 MB/s\u001b[0m eta \u001b[36m0:00:00\u001b[0m\n",
            "\u001b[?25hRequirement already satisfied: entrypoints in /usr/local/lib/python3.10/dist-packages (from altair<6,>=4.0->streamlit==1.29.0->-r /content/AI-POWERED-TRAVEL-ITENARY-APP-using-GEMINI-API-integration-with-python-/requirements.txt (line 3)) (0.4)\n",
            "Requirement already satisfied: jinja2 in /usr/local/lib/python3.10/dist-packages (from altair<6,>=4.0->streamlit==1.29.0->-r /content/AI-POWERED-TRAVEL-ITENARY-APP-using-GEMINI-API-integration-with-python-/requirements.txt (line 3)) (3.1.3)\n",
            "Requirement already satisfied: jsonschema>=3.0 in /usr/local/lib/python3.10/dist-packages (from altair<6,>=4.0->streamlit==1.29.0->-r /content/AI-POWERED-TRAVEL-ITENARY-APP-using-GEMINI-API-integration-with-python-/requirements.txt (line 3)) (4.19.2)\n",
            "Requirement already satisfied: toolz in /usr/local/lib/python3.10/dist-packages (from altair<6,>=4.0->streamlit==1.29.0->-r /content/AI-POWERED-TRAVEL-ITENARY-APP-using-GEMINI-API-integration-with-python-/requirements.txt (line 3)) (0.12.1)\n",
            "Collecting gitdb<5,>=4.0.1 (from gitpython!=3.1.19,<4,>=3.0.7->streamlit==1.29.0->-r /content/AI-POWERED-TRAVEL-ITENARY-APP-using-GEMINI-API-integration-with-python-/requirements.txt (line 3))\n",
            "  Downloading gitdb-4.0.11-py3-none-any.whl (62 kB)\n",
            "\u001b[2K     \u001b[90m━━━━━━━━━━━━━━━━━━━━━━━━━━━━━━━━━━━━━━━━\u001b[0m \u001b[32m62.7/62.7 kB\u001b[0m \u001b[31m6.6 MB/s\u001b[0m eta \u001b[36m0:00:00\u001b[0m\n",
            "\u001b[?25hRequirement already satisfied: zipp>=0.5 in /usr/local/lib/python3.10/dist-packages (from importlib-metadata<7,>=1.4->streamlit==1.29.0->-r /content/AI-POWERED-TRAVEL-ITENARY-APP-using-GEMINI-API-integration-with-python-/requirements.txt (line 3)) (3.18.1)\n",
            "Requirement already satisfied: pytz>=2020.1 in /usr/local/lib/python3.10/dist-packages (from pandas<3,>=1.3.0->streamlit==1.29.0->-r /content/AI-POWERED-TRAVEL-ITENARY-APP-using-GEMINI-API-integration-with-python-/requirements.txt (line 3)) (2023.4)\n",
            "Requirement already satisfied: tzdata>=2022.1 in /usr/local/lib/python3.10/dist-packages (from pandas<3,>=1.3.0->streamlit==1.29.0->-r /content/AI-POWERED-TRAVEL-ITENARY-APP-using-GEMINI-API-integration-with-python-/requirements.txt (line 3)) (2024.1)\n",
            "Requirement already satisfied: six>=1.5 in /usr/local/lib/python3.10/dist-packages (from python-dateutil<3,>=2.7.3->streamlit==1.29.0->-r /content/AI-POWERED-TRAVEL-ITENARY-APP-using-GEMINI-API-integration-with-python-/requirements.txt (line 3)) (1.16.0)\n",
            "Requirement already satisfied: charset-normalizer<4,>=2 in /usr/local/lib/python3.10/dist-packages (from requests<3,>=2.27->streamlit==1.29.0->-r /content/AI-POWERED-TRAVEL-ITENARY-APP-using-GEMINI-API-integration-with-python-/requirements.txt (line 3)) (3.3.2)\n",
            "Requirement already satisfied: idna<4,>=2.5 in /usr/local/lib/python3.10/dist-packages (from requests<3,>=2.27->streamlit==1.29.0->-r /content/AI-POWERED-TRAVEL-ITENARY-APP-using-GEMINI-API-integration-with-python-/requirements.txt (line 3)) (3.7)\n",
            "Requirement already satisfied: urllib3<3,>=1.21.1 in /usr/local/lib/python3.10/dist-packages (from requests<3,>=2.27->streamlit==1.29.0->-r /content/AI-POWERED-TRAVEL-ITENARY-APP-using-GEMINI-API-integration-with-python-/requirements.txt (line 3)) (2.0.7)\n",
            "Requirement already satisfied: certifi>=2017.4.17 in /usr/local/lib/python3.10/dist-packages (from requests<3,>=2.27->streamlit==1.29.0->-r /content/AI-POWERED-TRAVEL-ITENARY-APP-using-GEMINI-API-integration-with-python-/requirements.txt (line 3)) (2024.2.2)\n",
            "Requirement already satisfied: markdown-it-py>=2.2.0 in /usr/local/lib/python3.10/dist-packages (from rich<14,>=10.14.0->streamlit==1.29.0->-r /content/AI-POWERED-TRAVEL-ITENARY-APP-using-GEMINI-API-integration-with-python-/requirements.txt (line 3)) (3.0.0)\n",
            "Requirement already satisfied: pygments<3.0.0,>=2.13.0 in /usr/local/lib/python3.10/dist-packages (from rich<14,>=10.14.0->streamlit==1.29.0->-r /content/AI-POWERED-TRAVEL-ITENARY-APP-using-GEMINI-API-integration-with-python-/requirements.txt (line 3)) (2.16.1)\n",
            "Collecting smmap<6,>=3.0.1 (from gitdb<5,>=4.0.1->gitpython!=3.1.19,<4,>=3.0.7->streamlit==1.29.0->-r /content/AI-POWERED-TRAVEL-ITENARY-APP-using-GEMINI-API-integration-with-python-/requirements.txt (line 3))\n",
            "  Downloading smmap-5.0.1-py3-none-any.whl (24 kB)\n",
            "Requirement already satisfied: MarkupSafe>=2.0 in /usr/local/lib/python3.10/dist-packages (from jinja2->altair<6,>=4.0->streamlit==1.29.0->-r /content/AI-POWERED-TRAVEL-ITENARY-APP-using-GEMINI-API-integration-with-python-/requirements.txt (line 3)) (2.1.5)\n",
            "Requirement already satisfied: attrs>=22.2.0 in /usr/local/lib/python3.10/dist-packages (from jsonschema>=3.0->altair<6,>=4.0->streamlit==1.29.0->-r /content/AI-POWERED-TRAVEL-ITENARY-APP-using-GEMINI-API-integration-with-python-/requirements.txt (line 3)) (23.2.0)\n",
            "Requirement already satisfied: jsonschema-specifications>=2023.03.6 in /usr/local/lib/python3.10/dist-packages (from jsonschema>=3.0->altair<6,>=4.0->streamlit==1.29.0->-r /content/AI-POWERED-TRAVEL-ITENARY-APP-using-GEMINI-API-integration-with-python-/requirements.txt (line 3)) (2023.12.1)\n",
            "Requirement already satisfied: referencing>=0.28.4 in /usr/local/lib/python3.10/dist-packages (from jsonschema>=3.0->altair<6,>=4.0->streamlit==1.29.0->-r /content/AI-POWERED-TRAVEL-ITENARY-APP-using-GEMINI-API-integration-with-python-/requirements.txt (line 3)) (0.35.0)\n",
            "Requirement already satisfied: rpds-py>=0.7.1 in /usr/local/lib/python3.10/dist-packages (from jsonschema>=3.0->altair<6,>=4.0->streamlit==1.29.0->-r /content/AI-POWERED-TRAVEL-ITENARY-APP-using-GEMINI-API-integration-with-python-/requirements.txt (line 3)) (0.18.0)\n",
            "Requirement already satisfied: mdurl~=0.1 in /usr/local/lib/python3.10/dist-packages (from markdown-it-py>=2.2.0->rich<14,>=10.14.0->streamlit==1.29.0->-r /content/AI-POWERED-TRAVEL-ITENARY-APP-using-GEMINI-API-integration-with-python-/requirements.txt (line 3)) (0.1.2)\n",
            "Installing collected packages: watchdog, validators, smmap, packaging, numpy, importlib-metadata, pydeck, gitdb, scikit-learn, gitpython, streamlit, streamlit-option-menu\n",
            "  Attempting uninstall: packaging\n",
            "    Found existing installation: packaging 24.0\n",
            "    Uninstalling packaging-24.0:\n",
            "      Successfully uninstalled packaging-24.0\n",
            "  Attempting uninstall: numpy\n",
            "    Found existing installation: numpy 1.25.2\n",
            "    Uninstalling numpy-1.25.2:\n",
            "      Successfully uninstalled numpy-1.25.2\n",
            "  Attempting uninstall: importlib-metadata\n",
            "    Found existing installation: importlib_metadata 7.1.0\n",
            "    Uninstalling importlib_metadata-7.1.0:\n",
            "      Successfully uninstalled importlib_metadata-7.1.0\n",
            "  Attempting uninstall: scikit-learn\n",
            "    Found existing installation: scikit-learn 1.2.2\n",
            "    Uninstalling scikit-learn-1.2.2:\n",
            "      Successfully uninstalled scikit-learn-1.2.2\n",
            "Successfully installed gitdb-4.0.11 gitpython-3.1.43 importlib-metadata-6.11.0 numpy-1.26.3 packaging-23.2 pydeck-0.9.1 scikit-learn-1.3.2 smmap-5.0.1 streamlit-1.29.0 streamlit-option-menu-0.3.6 validators-0.28.3 watchdog-4.0.1\n"
          ]
        }
      ]
    },
    {
      "cell_type": "code",
      "source": [
        "import os\n",
        "from threading import Thread\n",
        "from pyngrok import ngrok"
      ],
      "metadata": {
        "id": "bd1fw8C6nWaL"
      },
      "execution_count": null,
      "outputs": []
    },
    {
      "cell_type": "code",
      "source": [
        "# Add your ngrok token here\n",
        "ngrok.set_auth_token('2i5oyn7ibVZg77ZXcWXUN5lkuTJ_62QG8ouJo4wUB3KMnmUgv')"
      ],
      "metadata": {
        "id": "99XyeUDwnWcY"
      },
      "execution_count": null,
      "outputs": []
    },
    {
      "cell_type": "code",
      "source": [
        "def run_streamlit():\n",
        "    # Change the port if 8501 is already in use or if you prefer another port\n",
        "    os.system('streamlit run /content/AI-POWERED-TRAVEL-ITENARY-APP-using-GEMINI-API-integration-with-python-/app_py.py --server.port 8501')"
      ],
      "metadata": {
        "id": "1P0saFmSnWeq"
      },
      "execution_count": null,
      "outputs": []
    },
    {
      "cell_type": "code",
      "source": [
        "# Start a thread to run the Streamlit app\n",
        "thread = Thread(target=run_streamlit)\n",
        "thread.start()"
      ],
      "metadata": {
        "id": "yF9xee2_nWiA"
      },
      "execution_count": null,
      "outputs": []
    },
    {
      "cell_type": "code",
      "source": [
        "# Open a tunnel to the streamlit port 8501\n",
        "public_url = ngrok.connect(addr='8501', proto='http', bind_tls=True)\n",
        "print('Your Streamlit app is live at:', public_url)"
      ],
      "metadata": {
        "colab": {
          "base_uri": "https://localhost:8080/"
        },
        "id": "YZvyXjxonuAO",
        "outputId": "a90c7a27-30a5-4411-ef28-926832ad76a0"
      },
      "execution_count": null,
      "outputs": [
        {
          "output_type": "stream",
          "name": "stdout",
          "text": [
            "Your Streamlit app is live at: NgrokTunnel: \"https://be16-34-125-242-209.ngrok-free.app\" -> \"http://localhost:8501\"\n"
          ]
        }
      ]
    },
    {
      "cell_type": "code",
      "source": [
        "ngrok.kill()"
      ],
      "metadata": {
        "id": "HU2hbOr1qScC"
      },
      "execution_count": null,
      "outputs": []
    }
  ]
}